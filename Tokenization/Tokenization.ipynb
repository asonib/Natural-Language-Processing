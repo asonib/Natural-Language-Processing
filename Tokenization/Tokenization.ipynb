{
 "cells": [
  {
   "cell_type": "markdown",
   "metadata": {},
   "source": [
    "## Aryan Soni Burman - 1761012\n",
    "## importing the Libraries"
   ]
  },
  {
   "cell_type": "code",
   "execution_count": 1,
   "metadata": {},
   "outputs": [],
   "source": [
    "import nltk"
   ]
  },
  {
   "cell_type": "code",
   "execution_count": 2,
   "metadata": {},
   "outputs": [],
   "source": [
    "# Library import for Tokenization of words\n",
    "from nltk.tokenize import word_tokenize"
   ]
  },
  {
   "cell_type": "code",
   "execution_count": 3,
   "metadata": {},
   "outputs": [],
   "source": [
    "# Library import for Tokenization of Sentences\n",
    "from nltk.tokenize import sent_tokenize"
   ]
  },
  {
   "cell_type": "code",
   "execution_count": 4,
   "metadata": {},
   "outputs": [],
   "source": [
    "# Sample Text selected for RegisterNo.-1761012 from Four-Steps-to-Forgiveness-William-Fergus-Martin\n",
    "text_12 = 'List the reasons why you want to forgive and then create a sentence out of these. What benefits would you get from forgiving? How would you feel, how would your attitude be better? How would your behaviour be different? This helps to strengthen your desire and motivation to forgive.'"
   ]
  },
  {
   "cell_type": "code",
   "execution_count": 5,
   "metadata": {},
   "outputs": [
    {
     "name": "stdout",
     "output_type": "stream",
     "text": [
      "The Sample Text :  List the reasons why you want to forgive and then create a sentence out of these. What benefits would you get from forgiving? How would you feel, how would your attitude be better? How would your behaviour be different? This helps to strengthen your desire and motivation to forgive.\n"
     ]
    }
   ],
   "source": [
    "print(\"The Sample Text : \",text_12)"
   ]
  },
  {
   "cell_type": "markdown",
   "metadata": {},
   "source": [
    "## Tokenization of words"
   ]
  },
  {
   "cell_type": "code",
   "execution_count": 6,
   "metadata": {},
   "outputs": [
    {
     "name": "stdout",
     "output_type": "stream",
     "text": [
      "['List', 'the', 'reasons', 'why', 'you', 'want', 'to', 'forgive', 'and', 'then', 'create', 'a', 'sentence', 'out', 'of', 'these', '.', 'What', 'benefits', 'would', 'you', 'get', 'from', 'forgiving', '?', 'How', 'would', 'you', 'feel', ',', 'how', 'would', 'your', 'attitude', 'be', 'better', '?', 'How', 'would', 'your', 'behaviour', 'be', 'different', '?', 'This', 'helps', 'to', 'strengthen', 'your', 'desire', 'and', 'motivation', 'to', 'forgive', '.']\n"
     ]
    }
   ],
   "source": [
    "words = word_tokenize(text_12)\n",
    "print(words)"
   ]
  },
  {
   "cell_type": "code",
   "execution_count": 7,
   "metadata": {},
   "outputs": [
    {
     "name": "stdout",
     "output_type": "stream",
     "text": [
      "1 List\n",
      "2 the\n",
      "3 reasons\n",
      "4 why\n",
      "5 you\n",
      "6 want\n",
      "7 to\n",
      "8 forgive\n",
      "9 and\n",
      "10 then\n",
      "11 create\n",
      "12 a\n",
      "13 sentence\n",
      "14 out\n",
      "15 of\n",
      "16 these\n",
      "17 .\n",
      "18 What\n",
      "19 benefits\n",
      "20 would\n",
      "21 you\n",
      "22 get\n",
      "23 from\n",
      "24 forgiving\n",
      "25 ?\n",
      "26 How\n",
      "27 would\n",
      "28 you\n",
      "29 feel\n",
      "30 ,\n",
      "31 how\n",
      "32 would\n",
      "33 your\n",
      "34 attitude\n",
      "35 be\n",
      "36 better\n",
      "37 ?\n",
      "38 How\n",
      "39 would\n",
      "40 your\n",
      "41 behaviour\n",
      "42 be\n",
      "43 different\n",
      "44 ?\n",
      "45 This\n",
      "46 helps\n",
      "47 to\n",
      "48 strengthen\n",
      "49 your\n",
      "50 desire\n",
      "51 and\n",
      "52 motivation\n",
      "53 to\n",
      "54 forgive\n",
      "55 .\n"
     ]
    }
   ],
   "source": [
    "i = 1\n",
    "for word in words:\n",
    "    print(i,word)\n",
    "    i += 1"
   ]
  },
  {
   "cell_type": "markdown",
   "metadata": {},
   "source": [
    "## Tokenization of Sentences"
   ]
  },
  {
   "cell_type": "code",
   "execution_count": 8,
   "metadata": {},
   "outputs": [
    {
     "name": "stdout",
     "output_type": "stream",
     "text": [
      "['List the reasons why you want to forgive and then create a sentence out of these.', 'What benefits would you get from forgiving?', 'How would you feel, how would your attitude be better?', 'How would your behaviour be different?', 'This helps to strengthen your desire and motivation to forgive.']\n"
     ]
    }
   ],
   "source": [
    "sentences = sent_tokenize(text_12)\n",
    "print(sentences)"
   ]
  },
  {
   "cell_type": "code",
   "execution_count": 9,
   "metadata": {},
   "outputs": [
    {
     "name": "stdout",
     "output_type": "stream",
     "text": [
      "1 List the reasons why you want to forgive and then create a sentence out of these.\n",
      "2 What benefits would you get from forgiving?\n",
      "3 How would you feel, how would your attitude be better?\n",
      "4 How would your behaviour be different?\n",
      "5 This helps to strengthen your desire and motivation to forgive.\n"
     ]
    }
   ],
   "source": [
    "i = 1\n",
    "for sentence in sentences:\n",
    "    print(i, sentence)\n",
    "    i += 1"
   ]
  },
  {
   "cell_type": "code",
   "execution_count": null,
   "metadata": {},
   "outputs": [],
   "source": []
  }
 ],
 "metadata": {
  "kernelspec": {
   "display_name": "Python 3",
   "language": "python",
   "name": "python3"
  },
  "language_info": {
   "codemirror_mode": {
    "name": "ipython",
    "version": 3
   },
   "file_extension": ".py",
   "mimetype": "text/x-python",
   "name": "python",
   "nbconvert_exporter": "python",
   "pygments_lexer": "ipython3",
   "version": "3.7.6"
  }
 },
 "nbformat": 4,
 "nbformat_minor": 4
}
