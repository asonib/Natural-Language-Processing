{
 "cells": [
  {
   "cell_type": "markdown",
   "metadata": {},
   "source": [
    "### ARYAN SONI BURMAN - 1761012"
   ]
  },
  {
   "cell_type": "markdown",
   "metadata": {},
   "source": [
    "### Importing libraries"
   ]
  },
  {
   "cell_type": "code",
   "execution_count": 1,
   "metadata": {},
   "outputs": [],
   "source": [
    "import nltk"
   ]
  },
  {
   "cell_type": "code",
   "execution_count": 2,
   "metadata": {},
   "outputs": [],
   "source": [
    "# Library import for Tokenization of words\n",
    "from nltk.tokenize import word_tokenize"
   ]
  },
  {
   "cell_type": "code",
   "execution_count": 3,
   "metadata": {},
   "outputs": [],
   "source": [
    "# Library import for frequency distribution\n",
    "from nltk.probability import FreqDist"
   ]
  },
  {
   "cell_type": "code",
   "execution_count": 4,
   "metadata": {},
   "outputs": [],
   "source": [
    "# Library import for stopwords\n",
    "from nltk.corpus import stopwords"
   ]
  },
  {
   "cell_type": "code",
   "execution_count": 5,
   "metadata": {},
   "outputs": [],
   "source": [
    "# Library import for Lammatizer\n",
    "from nltk.stem import WordNetLemmatizer "
   ]
  },
  {
   "cell_type": "code",
   "execution_count": 6,
   "metadata": {},
   "outputs": [],
   "source": [
    "# Sample Text selected for RegisterNo.-1761012 from Four-Steps-to-Forgiveness-William-Fergus-Martin\n",
    "text = 'My name is Aryan Soni. I am a student at Christ University. Christ University Faculty of engineering is in Bangalore. I am studying Computer Science and Engineering at Christ University. The students of Christ University follow the goal Excellence and service'"
   ]
  },
  {
   "cell_type": "code",
   "execution_count": 7,
   "metadata": {},
   "outputs": [
    {
     "name": "stdout",
     "output_type": "stream",
     "text": [
      "The Sample Text :  My name is Aryan Soni. I am a student at Christ University. Christ University Faculty of engineering is in Bangalore. I am studying Computer Science and Engineering at Christ University. The students of Christ University follow the goal Excellence and service\n"
     ]
    }
   ],
   "source": [
    "print(\"The Sample Text : \",text)"
   ]
  },
  {
   "cell_type": "code",
   "execution_count": 8,
   "metadata": {},
   "outputs": [
    {
     "name": "stdout",
     "output_type": "stream",
     "text": [
      "['My', 'name', 'is', 'Aryan', 'Soni', '.', 'I', 'am', 'a', 'student', 'at', 'Christ', 'University', '.', 'Christ', 'University', 'Faculty', 'of', 'engineering', 'is', 'in', 'Bangalore', '.', 'I', 'am', 'studying', 'Computer', 'Science', 'and', 'Engineering', 'at', 'Christ', 'University', '.', 'The', 'students', 'of', 'Christ', 'University', 'follow', 'the', 'goal', 'Excellence', 'and', 'service']\n"
     ]
    }
   ],
   "source": [
    "words = word_tokenize(text)\n",
    "print(words)"
   ]
  },
  {
   "cell_type": "markdown",
   "metadata": {},
   "source": [
    "### Frequency Distribution"
   ]
  },
  {
   "cell_type": "code",
   "execution_count": 9,
   "metadata": {},
   "outputs": [
    {
     "name": "stdout",
     "output_type": "stream",
     "text": [
      "<FreqDist with 30 samples and 45 outcomes>\n"
     ]
    }
   ],
   "source": [
    "freq_dist = FreqDist(words)\n",
    "print(freq_dist)"
   ]
  },
  {
   "cell_type": "code",
   "execution_count": 10,
   "metadata": {},
   "outputs": [
    {
     "name": "stdout",
     "output_type": "stream",
     "text": [
      "1 ('.', 4)\n",
      "2 ('Christ', 4)\n",
      "3 ('University', 4)\n",
      "4 ('is', 2)\n",
      "5 ('I', 2)\n"
     ]
    }
   ],
   "source": [
    "i = 1\n",
    "for sample in freq_dist.most_common(5):\n",
    "    print(i, sample)\n",
    "    i += 1"
   ]
  },
  {
   "cell_type": "markdown",
   "metadata": {},
   "source": [
    "### Frequency Distribution Plot"
   ]
  },
  {
   "cell_type": "code",
   "execution_count": 11,
   "metadata": {},
   "outputs": [
    {
     "data": {
      "image/png": "[encoded data removed]",
      "text/plain": [
       "<Figure size 432x288 with 1 Axes>"
      ]
     },
     "metadata": {
      "needs_background": "light"
     },
     "output_type": "display_data"
    }
   ],
   "source": [
    "import matplotlib.pyplot as plt\n",
    "freq_dist.plot()\n",
    "plt.show()"
   ]
  },
  {
   "cell_type": "markdown",
   "metadata": {},
   "source": [
    "### Stopwords"
   ]
  },
  {
   "cell_type": "code",
   "execution_count": 12,
   "metadata": {},
   "outputs": [
    {
     "name": "stdout",
     "output_type": "stream",
     "text": [
      "{'out', 'before', 'mightn', 'himself', 'are', \"it's\", 'again', 'me', 'as', \"mightn't\", 'where', 'other', 'under', 'any', 'who', 'against', 'own', 'you', 'ain', \"you'd\", \"haven't\", 'itself', 'do', 'below', 't', 'yourselves', 'which', 'each', 'theirs', 'hers', \"shan't\", 'in', \"won't\", 'shan', 'aren', 'we', 'ours', 'shouldn', 'or', 'few', 'very', 'by', 'was', 'she', 'here', 'y', 'doesn', 'hadn', 'if', 'up', \"hadn't\", 'they', 'am', 'were', 'yourself', 'just', 'for', 'than', 'a', 'between', 'is', 'herself', \"you've\", 'themselves', 'most', 'doing', \"shouldn't\", 've', 'does', 'wasn', \"wouldn't\", 'to', 'll', 'because', 'with', \"isn't\", 'why', 'he', 'it', 'his', 'him', \"hasn't\", 'our', 'have', \"doesn't\", 'not', 'too', 'has', 'on', 'further', 'mustn', 'isn', \"should've\", 'then', \"she's\", 'of', 'there', \"aren't\", 'more', \"you're\", 'about', 'but', 'when', \"that'll\", 'what', 'these', 'above', 'ourselves', 'didn', 'did', 'some', 'same', 'once', 'o', 'her', 'that', 'i', 'its', 'be', 'having', \"you'll\", \"weren't\", 'can', 'how', 'needn', 'ma', 'during', 'all', 'through', \"didn't\", 'while', 'into', 'myself', \"don't\", 'will', 'off', 'couldn', 'hasn', 's', 'the', 'both', 'their', 'been', 'being', 'down', 'don', 'm', 'so', \"wasn't\", 'won', \"mustn't\", 'should', 'your', 'after', 'an', 'nor', \"couldn't\", 'over', 'd', 'only', 'no', 'wouldn', 'and', 'yours', 'haven', 'them', 'now', 're', 'from', 'weren', 'at', 'such', 'this', 'whom', 'those', 'until', \"needn't\", 'my', 'had'}\n"
     ]
    }
   ],
   "source": [
    "stop_words = set(stopwords.words(\"english\"))\n",
    "print(stop_words)"
   ]
  },
  {
   "cell_type": "code",
   "execution_count": 13,
   "metadata": {},
   "outputs": [
    {
     "name": "stdout",
     "output_type": "stream",
     "text": [
      "Tokenized Words: ['My', 'name', 'is', 'Aryan', 'Soni', '.', 'I', 'am', 'a', 'student', 'at', 'Christ', 'University', '.', 'Christ', 'University', 'Faculty', 'of', 'engineering', 'is', 'in', 'Bangalore', '.', 'I', 'am', 'studying', 'Computer', 'Science', 'and', 'Engineering', 'at', 'Christ', 'University', '.', 'The', 'students', 'of', 'Christ', 'University', 'follow', 'the', 'goal', 'Excellence', 'and', 'service']\n",
      "\n",
      "Rejected Words: ['is', 'am', 'a', 'at', 'of', 'is', 'in', 'am', 'and', 'at', 'of', 'the', 'and']\n",
      "\n",
      "Filterd Words: ['My', 'name', 'Aryan', 'Soni', '.', 'I', 'student', 'Christ', 'University', '.', 'Christ', 'University', 'Faculty', 'engineering', 'Bangalore', '.', 'I', 'studying', 'Computer', 'Science', 'Engineering', 'Christ', 'University', '.', 'The', 'students', 'Christ', 'University', 'follow', 'goal', 'Excellence', 'service']\n"
     ]
    }
   ],
   "source": [
    "words_filtered=[]\n",
    "rejected = []\n",
    "for word in words:\n",
    "    if word not in stop_words:\n",
    "        words_filtered.append(word)\n",
    "    if word in stop_words:\n",
    "        rejected.append(word)\n",
    "print(\"Tokenized Words:\",words)\n",
    "print()\n",
    "print(\"Rejected Words:\",rejected)\n",
    "print()\n",
    "print(\"Filterd Words:\",words_filtered)"
   ]
  },
  {
   "cell_type": "code",
   "execution_count": 14,
   "metadata": {},
   "outputs": [],
   "source": [
    "lemmatizer = WordNetLemmatizer() \n",
    "\n",
    "lemmatized_words = []\n",
    "for word in words_filtered:\n",
    "    lemmatized_words.append(lemmatizer.lemmatize(word))"
   ]
  },
  {
   "cell_type": "code",
   "execution_count": 15,
   "metadata": {},
   "outputs": [
    {
     "data": {
      "text/plain": [
       "['My',\n",
       " 'name',\n",
       " 'Aryan',\n",
       " 'Soni',\n",
       " '.',\n",
       " 'I',\n",
       " 'student',\n",
       " 'Christ',\n",
       " 'University',\n",
       " '.',\n",
       " 'Christ',\n",
       " 'University',\n",
       " 'Faculty',\n",
       " 'engineering',\n",
       " 'Bangalore',\n",
       " '.',\n",
       " 'I',\n",
       " 'studying',\n",
       " 'Computer',\n",
       " 'Science',\n",
       " 'Engineering',\n",
       " 'Christ',\n",
       " 'University',\n",
       " '.',\n",
       " 'The',\n",
       " 'student',\n",
       " 'Christ',\n",
       " 'University',\n",
       " 'follow',\n",
       " 'goal',\n",
       " 'Excellence',\n",
       " 'service']"
      ]
     },
     "execution_count": 15,
     "metadata": {},
     "output_type": "execute_result"
    }
   ],
   "source": [
    "lemmatized_words"
   ]
  }
 ],
 "metadata": {
  "kernelspec": {
   "display_name": "Python 3",
   "language": "python",
   "name": "python3"
  },
  "language_info": {
   "codemirror_mode": {
    "name": "ipython",
    "version": 3
   },
   "file_extension": ".py",
   "mimetype": "text/x-python",
   "name": "python",
   "nbconvert_exporter": "python",
   "pygments_lexer": "ipython3",
   "version": "3.7.6"
  }
 },
 "nbformat": 4,
 "nbformat_minor": 4
}
