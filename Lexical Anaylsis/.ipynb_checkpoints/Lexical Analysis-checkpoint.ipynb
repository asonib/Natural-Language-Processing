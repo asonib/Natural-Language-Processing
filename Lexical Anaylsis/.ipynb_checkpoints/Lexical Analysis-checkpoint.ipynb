{
 "cells": [
  {
   "cell_type": "code",
   "execution_count": 78,
   "metadata": {},
   "outputs": [],
   "source": [
    "import nltk\n",
    "# Library import for Tokenization of words\n",
    "from nltk.tokenize import word_tokenize\n",
    "# Library import for stopwords\n",
    "from nltk.corpus import stopwords\n",
    "# Library import for Lammatizer\n",
    "from nltk.stem import WordNetLemmatizer\n",
    "# Library import for Stemming\n",
    "from nltk.stem import PorterStemmer\n",
    "ps = PorterStemmer()\n",
    "# Library import for LexicalAnalysis\n",
    "import nltk.sentiment.util as lexi\n",
    "from nltk.corpus import opinion_lexicon"
   ]
  },
  {
   "cell_type": "code",
   "execution_count": 123,
   "metadata": {},
   "outputs": [],
   "source": [
    "class returnBOW:\n",
    "    def __init__(self, sentence):\n",
    "        self.sentence = sentence\n",
    "        \n",
    "    def word_tokenize(self):\n",
    "        words = word_tokenize(self.sentence)\n",
    "        return words\n",
    "    \n",
    "    def remove_stopwords(self):\n",
    "        stop_words = set(stopwords.words(\"english\"))\n",
    "        words = word_tokenize(self.sentence)\n",
    "        words_filtered=[]\n",
    "        for word in words:\n",
    "            if word not in stop_words:\n",
    "                words_filtered.append(word)\n",
    "        return words_filtered\n",
    "    \n",
    "    def word_lammatize(self):\n",
    "        lemmatizer = WordNetLemmatizer() \n",
    "        filtered_words = self.remove_stopwords()\n",
    "        lemmatized_words = []\n",
    "        for word in filtered_words:\n",
    "            lemmatized_words.append(lemmatizer.lemmatize(word))\n",
    "        return lemmatized_words\n",
    "    \n",
    "    def word_stemming(self):\n",
    "        stemmed_words=[]\n",
    "        lemmatized_words = self.word_lammatize()\n",
    "        for word in lemmatized_words:\n",
    "            stemmed_words.append(ps.stem(word.lower()))\n",
    "        return stemmed_words\n",
    "    \n",
    "    def lexical_analysis(self, preprocessing_extent='word', plot=False):\n",
    "        \n",
    "        pos_words = 0\n",
    "        neg_words = 0\n",
    "        \n",
    "        if(preprocessing_extent == 'stemm'):\n",
    "            tokenized_sent = self.word_stemming()\n",
    "        if(preprocessing_extent == 'lamm'):\n",
    "            tokenized_sent = self.word_lammatize()\n",
    "        if(preprocessing_extent == 'stop'):\n",
    "            tokenized_sent = self.word_lammatize()\n",
    "        if(preprocessing_extent == 'word'):\n",
    "            tokenized_sent = self.word_tokenize()\n",
    "\n",
    "        x = list(range(len(tokenized_sent))) # x axis for the plot\n",
    "        y = []\n",
    "\n",
    "        for word in tokenized_sent:\n",
    "            if word in opinion_lexicon.positive():\n",
    "                pos_words += 1\n",
    "                y.append(1) # positive\n",
    "            elif word in opinion_lexicon.negative():\n",
    "                if word == 'not':\n",
    "                    neg_words += 2\n",
    "                    y.append(-1)\n",
    "                else:\n",
    "                    neg_words += 1\n",
    "                    y.append(-1) # negative\n",
    "            else:\n",
    "                y.append(0) # neutral\n",
    "\n",
    "        if pos_words > neg_words:\n",
    "            print('Positive Sentence, Total Positive Words : ',pos_words)\n",
    "        elif pos_words < neg_words:\n",
    "            print('Negative Sentence, Total Negative Words : ',neg_words)\n",
    "        elif pos_words == neg_words:\n",
    "            print('Neutral Sentence, Total Neutral Words : ',len(tokenized_sent)-(pos_words+neg_words))\n",
    "\n",
    "        if plot == True:\n",
    "            lexi._show_plot(x, y, x_labels=tokenized_sent, y_labels=['Negative', 'Neutral', 'Positive']) "
   ]
  },
  {
   "cell_type": "code",
   "execution_count": 126,
   "metadata": {},
   "outputs": [],
   "source": [
    "bog = returnBOW(\"You have impeccable manners.\")"
   ]
  },
  {
   "cell_type": "code",
   "execution_count": 127,
   "metadata": {},
   "outputs": [
    {
     "name": "stdout",
     "output_type": "stream",
     "text": [
      "Positive Sentence, Total Positive Words :  1\n"
     ]
    },
    {
     "name": "stderr",
     "output_type": "stream",
     "text": [
      "/home/aryan/anaconda3/lib/python3.7/site-packages/nltk/sentiment/util.py:338: MatplotlibDeprecationWarning: Adding an axes using the same arguments as a previous axes currently reuses the earlier instance.  In a future version, a new instance will always be created and returned.  Meanwhile, this warning can be suppressed, and the future behavior ensured, by passing a unique label to each axes instance.\n",
      "  axes = plt.axes()\n"
     ]
    },
    {
     "data": {
      "image/png": "[encoded data removed]",
      "text/plain": [
       "<Figure size 432x288 with 1 Axes>"
      ]
     },
     "metadata": {
      "needs_background": "light"
     },
     "output_type": "display_data"
    }
   ],
   "source": [
    "words = bog.lexical_analysis(plot=True)"
   ]
  }
 ],
 "metadata": {
  "kernelspec": {
   "display_name": "Python 3",
   "language": "python",
   "name": "python3"
  },
  "language_info": {
   "codemirror_mode": {
    "name": "ipython",
    "version": 3
   },
   "file_extension": ".py",
   "mimetype": "text/x-python",
   "name": "python",
   "nbconvert_exporter": "python",
   "pygments_lexer": "ipython3",
   "version": "3.7.6"
  }
 },
 "nbformat": 4,
 "nbformat_minor": 4
}
