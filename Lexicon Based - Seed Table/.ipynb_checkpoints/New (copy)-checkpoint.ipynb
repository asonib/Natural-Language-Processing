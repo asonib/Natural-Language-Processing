{
 "cells": [
  {
   "cell_type": "code",
   "execution_count": 1,
   "metadata": {},
   "outputs": [],
   "source": [
    "import nltk\n",
    "# Library import for Tokenization of words\n",
    "from nltk.tokenize import word_tokenize\n",
    "# Library import for stopwords\n",
    "from nltk.corpus import stopwords\n",
    "# Library import for Lammatizer\n",
    "from nltk.stem import WordNetLemmatizer"
   ]
  },
  {
   "cell_type": "code",
   "execution_count": 2,
   "metadata": {},
   "outputs": [],
   "source": [
    "text = \"movie is awesome I like watching it\".lower()"
   ]
  },
  {
   "cell_type": "code",
   "execution_count": 3,
   "metadata": {},
   "outputs": [],
   "source": [
    "stop_words = set(stopwords.words(\"english\"))\n",
    "words = word_tokenize(text)\n",
    "words_filtered=[]\n",
    "for word in words:\n",
    "    if word not in stop_words:\n",
    "        words_filtered.append(word)\n",
    "\n",
    "lemmatizer = WordNetLemmatizer() \n",
    "lemmatized_words = []\n",
    "for word in words_filtered:\n",
    "    lemmatized_words.append(lemmatizer.lemmatize(word))"
   ]
  },
  {
   "cell_type": "code",
   "execution_count": 4,
   "metadata": {},
   "outputs": [],
   "source": [
    "pos_tagged_words = nltk.pos_tag(lemmatized_words)"
   ]
  },
  {
   "cell_type": "code",
   "execution_count": 5,
   "metadata": {},
   "outputs": [
    {
     "data": {
      "text/plain": [
       "[('movie', 'NN'), ('awesome', 'VBP'), ('like', 'IN'), ('watching', 'VBG')]"
      ]
     },
     "execution_count": 5,
     "metadata": {},
     "output_type": "execute_result"
    }
   ],
   "source": [
    "pos_tagged_words"
   ]
  },
  {
   "cell_type": "code",
   "execution_count": 6,
   "metadata": {},
   "outputs": [],
   "source": [
    "training_data = [\n",
    "    [\"P\",\"movie is good direction was superb\"],\n",
    "    [\"P\",\"movie is good songs are just awesome\"],\n",
    "    [\"N\",\"movie is not so good actor is superficial\"],\n",
    "    [\"N\",\"movie is not so good actress speaks dump\"],\n",
    "    [\"P\",\"movie is good real heroism\"]\n",
    "]"
   ]
  },
  {
   "cell_type": "code",
   "execution_count": 7,
   "metadata": {},
   "outputs": [],
   "source": [
    "positive = []\n",
    "negative = []\n",
    "for value in training_data:\n",
    "    if value[0] == \"P\":\n",
    "        positive.append(value[1])\n",
    "    elif value[0] == \"N\":\n",
    "        negative.append(value[1])"
   ]
  },
  {
   "cell_type": "code",
   "execution_count": 8,
   "metadata": {},
   "outputs": [],
   "source": [
    "#POSITIVE BAG OF WORDS\n",
    "pos = []\n",
    "for word in positive:\n",
    "    token = nltk.word_tokenize(word)\n",
    "    for w in token:\n",
    "        pos.append(w.lower())"
   ]
  },
  {
   "cell_type": "code",
   "execution_count": 9,
   "metadata": {},
   "outputs": [],
   "source": [
    "#NEGATIVE BAG OF WORDS\n",
    "neg = []\n",
    "for word in negative:\n",
    "    token = nltk.word_tokenize(word)\n",
    "    for w in token:\n",
    "        neg.append(w.lower())"
   ]
  },
  {
   "cell_type": "code",
   "execution_count": 10,
   "metadata": {},
   "outputs": [],
   "source": [
    "#REMOVE STOPWORDS FROM BOTH THE BAG OF WORDS(POSITIVE AND NEGATIVE)\n",
    "pos_filtered = []\n",
    "for word in pos:\n",
    "    if word not in stop_words:\n",
    "        pos_filtered.append(word)\n",
    "neg_filtered = []\n",
    "for word in neg:\n",
    "    if word not in stop_words:\n",
    "        neg_filtered.append(word)"
   ]
  },
  {
   "cell_type": "code",
   "execution_count": 11,
   "metadata": {},
   "outputs": [],
   "source": [
    "combined_bag = []\n",
    "for word in pos_filtered:\n",
    "    combined_bag.append(word)\n",
    "for word in neg_filtered:\n",
    "    combined_bag.append(word)"
   ]
  },
  {
   "cell_type": "code",
   "execution_count": 16,
   "metadata": {},
   "outputs": [
    {
     "data": {
      "text/plain": [
       "['movie',\n",
       " 'good',\n",
       " 'direction',\n",
       " 'superb',\n",
       " 'movie',\n",
       " 'good',\n",
       " 'songs',\n",
       " 'awesome',\n",
       " 'movie',\n",
       " 'good',\n",
       " 'real',\n",
       " 'heroism',\n",
       " 'movie',\n",
       " 'good',\n",
       " 'actor',\n",
       " 'superficial',\n",
       " 'movie',\n",
       " 'good',\n",
       " 'actress',\n",
       " 'speaks',\n",
       " 'dump']"
      ]
     },
     "execution_count": 16,
     "metadata": {},
     "output_type": "execute_result"
    }
   ],
   "source": [
    "combined_bag"
   ]
  },
  {
   "cell_type": "code",
   "execution_count": 14,
   "metadata": {},
   "outputs": [],
   "source": [
    "total_words = len(pos_filtered)+len(neg_filtered)\n",
    "table = []\n",
    "for tup in combined_bag:\n",
    "    table.append([tup, pos_filtered.count(tup[0])/len(pos_filtered), \n",
    "                neg_filtered.count(tup[0])/len(neg_filtered),\n",
    "                 (pos_filtered.count(tup[0])+neg_filtered.count(tup[0]))/total_words])"
   ]
  },
  {
   "cell_type": "code",
   "execution_count": 15,
   "metadata": {},
   "outputs": [
    {
     "data": {
      "text/plain": [
       "[['m', 0.0, 0.0, 0.0],\n",
       " ['g', 0.0, 0.0, 0.0],\n",
       " ['d', 0.0, 0.0, 0.0],\n",
       " ['s', 0.0, 0.0, 0.0],\n",
       " ['m', 0.0, 0.0, 0.0],\n",
       " ['g', 0.0, 0.0, 0.0],\n",
       " ['s', 0.0, 0.0, 0.0],\n",
       " ['a', 0.0, 0.0, 0.0],\n",
       " ['m', 0.0, 0.0, 0.0],\n",
       " ['g', 0.0, 0.0, 0.0],\n",
       " ['r', 0.0, 0.0, 0.0],\n",
       " ['h', 0.0, 0.0, 0.0],\n",
       " ['m', 0.0, 0.0, 0.0],\n",
       " ['g', 0.0, 0.0, 0.0],\n",
       " ['a', 0.0, 0.0, 0.0],\n",
       " ['s', 0.0, 0.0, 0.0],\n",
       " ['m', 0.0, 0.0, 0.0],\n",
       " ['g', 0.0, 0.0, 0.0],\n",
       " ['a', 0.0, 0.0, 0.0],\n",
       " ['s', 0.0, 0.0, 0.0],\n",
       " ['d', 0.0, 0.0, 0.0]]"
      ]
     },
     "execution_count": 15,
     "metadata": {},
     "output_type": "execute_result"
    }
   ],
   "source": [
    "table"
   ]
  },
  {
   "cell_type": "code",
   "execution_count": 168,
   "metadata": {},
   "outputs": [
    {
     "data": {
      "text/html": [
       "<div>\n",
       "<style scoped>\n",
       "    .dataframe tbody tr th:only-of-type {\n",
       "        vertical-align: middle;\n",
       "    }\n",
       "\n",
       "    .dataframe tbody tr th {\n",
       "        vertical-align: top;\n",
       "    }\n",
       "\n",
       "    .dataframe thead th {\n",
       "        text-align: right;\n",
       "    }\n",
       "</style>\n",
       "<table border=\"1\" class=\"dataframe\">\n",
       "  <thead>\n",
       "    <tr style=\"text-align: right;\">\n",
       "      <th></th>\n",
       "      <th>Bag Of Words</th>\n",
       "      <th>Positive</th>\n",
       "      <th>Negative</th>\n",
       "      <th>P(X)</th>\n",
       "    </tr>\n",
       "  </thead>\n",
       "  <tbody>\n",
       "    <tr>\n",
       "      <th>0</th>\n",
       "      <td>movie</td>\n",
       "      <td>0.250000</td>\n",
       "      <td>0.222222</td>\n",
       "      <td>0.238095</td>\n",
       "    </tr>\n",
       "    <tr>\n",
       "      <th>1</th>\n",
       "      <td>awesome</td>\n",
       "      <td>0.083333</td>\n",
       "      <td>0.000000</td>\n",
       "      <td>0.047619</td>\n",
       "    </tr>\n",
       "    <tr>\n",
       "      <th>2</th>\n",
       "      <td>like</td>\n",
       "      <td>0.000000</td>\n",
       "      <td>0.000000</td>\n",
       "      <td>0.000000</td>\n",
       "    </tr>\n",
       "    <tr>\n",
       "      <th>3</th>\n",
       "      <td>watching</td>\n",
       "      <td>0.000000</td>\n",
       "      <td>0.000000</td>\n",
       "      <td>0.000000</td>\n",
       "    </tr>\n",
       "  </tbody>\n",
       "</table>\n",
       "</div>"
      ],
      "text/plain": [
       "  Bag Of Words  Positive  Negative      P(X)\n",
       "0        movie  0.250000  0.222222  0.238095\n",
       "1      awesome  0.083333  0.000000  0.047619\n",
       "2         like  0.000000  0.000000  0.000000\n",
       "3     watching  0.000000  0.000000  0.000000"
      ]
     },
     "execution_count": 168,
     "metadata": {},
     "output_type": "execute_result"
    }
   ],
   "source": [
    "import pandas as pd\n",
    "cols = ['Bag Of Words', 'Positive', 'Negative', 'P(X)']\n",
    "dframe = pd.DataFrame(table, columns=cols)\n",
    "dframe"
   ]
  },
  {
   "cell_type": "code",
   "execution_count": 169,
   "metadata": {},
   "outputs": [],
   "source": [
    "P_C_Positive = dframe['Positive'].sum(axis=0)\n",
    "P_C_Negative = dframe['Negative'].sum(axis=0)"
   ]
  },
  {
   "cell_type": "code",
   "execution_count": 170,
   "metadata": {},
   "outputs": [
    {
     "name": "stdout",
     "output_type": "stream",
     "text": [
      "0.3333333333333333 0.2222222222222222\n"
     ]
    }
   ],
   "source": [
    "print(P_C_Positive, P_C_Negative)"
   ]
  },
  {
   "cell_type": "code",
   "execution_count": 188,
   "metadata": {},
   "outputs": [
    {
     "name": "stderr",
     "output_type": "stream",
     "text": [
      "/home/aryan/anaconda3/lib/python3.7/site-packages/ipykernel_launcher.py:4: RuntimeWarning: invalid value encountered in double_scalars\n",
      "  after removing the cwd from sys.path.\n"
     ]
    }
   ],
   "source": [
    "#APPLYING BAYES THEORUM TO CALCULATE PROBABILITY OF EVERY WORD IN SENTENCE\n",
    "sentiment_score = []\n",
    "i=0\n",
    "for word in dframe['Bag Of Words']:\n",
    "    score = (dframe['Positive'][i]*P_C_Positive)/(dframe['Positive'][i]*P_C_Positive+dframe['Negative'][i]*P_C_Negative)\n",
    "    sentiment_score.append([word, score])\n",
    "    i = i+1"
   ]
  },
  {
   "cell_type": "code",
   "execution_count": 189,
   "metadata": {},
   "outputs": [
    {
     "data": {
      "text/plain": [
       "[['movie', 0.6279069767441862],\n",
       " ['awesome', 1.0],\n",
       " ['like', nan],\n",
       " ['watching', nan]]"
      ]
     },
     "execution_count": 189,
     "metadata": {},
     "output_type": "execute_result"
    }
   ],
   "source": [
    "sentiment_score"
   ]
  },
  {
   "cell_type": "code",
   "execution_count": 194,
   "metadata": {},
   "outputs": [
    {
     "data": {
      "text/html": [
       "<div>\n",
       "<style scoped>\n",
       "    .dataframe tbody tr th:only-of-type {\n",
       "        vertical-align: middle;\n",
       "    }\n",
       "\n",
       "    .dataframe tbody tr th {\n",
       "        vertical-align: top;\n",
       "    }\n",
       "\n",
       "    .dataframe thead th {\n",
       "        text-align: right;\n",
       "    }\n",
       "</style>\n",
       "<table border=\"1\" class=\"dataframe\">\n",
       "  <thead>\n",
       "    <tr style=\"text-align: right;\">\n",
       "      <th></th>\n",
       "      <th>Word</th>\n",
       "      <th>Score</th>\n",
       "    </tr>\n",
       "  </thead>\n",
       "  <tbody>\n",
       "    <tr>\n",
       "      <th>0</th>\n",
       "      <td>movie</td>\n",
       "      <td>0.627907</td>\n",
       "    </tr>\n",
       "    <tr>\n",
       "      <th>1</th>\n",
       "      <td>awesome</td>\n",
       "      <td>1.000000</td>\n",
       "    </tr>\n",
       "    <tr>\n",
       "      <th>2</th>\n",
       "      <td>like</td>\n",
       "      <td>0.000000</td>\n",
       "    </tr>\n",
       "    <tr>\n",
       "      <th>3</th>\n",
       "      <td>watching</td>\n",
       "      <td>0.000000</td>\n",
       "    </tr>\n",
       "  </tbody>\n",
       "</table>\n",
       "</div>"
      ],
      "text/plain": [
       "       Word     Score\n",
       "0     movie  0.627907\n",
       "1   awesome  1.000000\n",
       "2      like  0.000000\n",
       "3  watching  0.000000"
      ]
     },
     "execution_count": 194,
     "metadata": {},
     "output_type": "execute_result"
    }
   ],
   "source": [
    "dframe_score = pd.DataFrame(sentiment_score, columns=['Word', 'Score'])\n",
    "dframe_score[\"Score\"].fillna(0, inplace = True)\n",
    "dframe_score"
   ]
  },
  {
   "cell_type": "code",
   "execution_count": null,
   "metadata": {},
   "outputs": [],
   "source": []
  }
 ],
 "metadata": {
  "kernelspec": {
   "display_name": "Python 3",
   "language": "python",
   "name": "python3"
  },
  "language_info": {
   "codemirror_mode": {
    "name": "ipython",
    "version": 3
   },
   "file_extension": ".py",
   "mimetype": "text/x-python",
   "name": "python",
   "nbconvert_exporter": "python",
   "pygments_lexer": "ipython3",
   "version": "3.7.6"
  }
 },
 "nbformat": 4,
 "nbformat_minor": 4
}
