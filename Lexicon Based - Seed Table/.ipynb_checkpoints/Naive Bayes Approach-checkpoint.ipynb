{
 "cells": [
  {
   "cell_type": "code",
   "execution_count": 120,
   "metadata": {},
   "outputs": [],
   "source": [
    "import nltk\n",
    "# Library import for Tokenization of words\n",
    "from nltk.tokenize import word_tokenize\n",
    "# Library import for stopwords\n",
    "from nltk.corpus import stopwords\n",
    "# Library import for Lammatizer\n",
    "from nltk.stem import WordNetLemmatizer"
   ]
  },
  {
   "cell_type": "code",
   "execution_count": 121,
   "metadata": {},
   "outputs": [],
   "source": [
    "text = \"movie is awesome I like watching it\".lower()"
   ]
  },
  {
   "cell_type": "code",
   "execution_count": 122,
   "metadata": {},
   "outputs": [],
   "source": [
    "stop_words = set(stopwords.words(\"english\"))\n",
    "words = word_tokenize(text)\n",
    "words_filtered=[]\n",
    "for word in words:\n",
    "    if word not in stop_words:\n",
    "        words_filtered.append(word)\n",
    "\n",
    "lemmatizer = WordNetLemmatizer() \n",
    "lemmatized_words = []\n",
    "for word in words_filtered:\n",
    "    lemmatized_words.append(lemmatizer.lemmatize(word))"
   ]
  },
  {
   "cell_type": "code",
   "execution_count": 123,
   "metadata": {},
   "outputs": [],
   "source": [
    "pos_tagged_words = nltk.pos_tag(lemmatized_words)"
   ]
  },
  {
   "cell_type": "code",
   "execution_count": 124,
   "metadata": {},
   "outputs": [
    {
     "data": {
      "text/plain": [
       "[('movie', 'NN'), ('awesome', 'VBP'), ('like', 'IN'), ('watching', 'VBG')]"
      ]
     },
     "execution_count": 124,
     "metadata": {},
     "output_type": "execute_result"
    }
   ],
   "source": [
    "pos_tagged_words"
   ]
  },
  {
   "cell_type": "code",
   "execution_count": 125,
   "metadata": {},
   "outputs": [],
   "source": [
    "training_data = [\n",
    "    [\"P\",\"movie is good direction was superb\"],\n",
    "    [\"P\",\"movie is good songs are just awesome\"],\n",
    "    [\"N\",\"movie is not so good actor is superficial\"],\n",
    "    [\"N\",\"movie is not so good actress speaks dump\"],\n",
    "    [\"P\",\"movie is good real heroism\"]\n",
    "]"
   ]
  },
  {
   "cell_type": "code",
   "execution_count": 126,
   "metadata": {},
   "outputs": [],
   "source": [
    "positive = []\n",
    "negative = []\n",
    "for value in training_data:\n",
    "    if value[0] == \"P\":\n",
    "        positive.append(value[1])\n",
    "    elif value[0] == \"N\":\n",
    "        negative.append(value[1])"
   ]
  },
  {
   "cell_type": "code",
   "execution_count": 127,
   "metadata": {},
   "outputs": [],
   "source": [
    "#POSITIVE BAG OF WORDS\n",
    "pos = []\n",
    "for word in positive:\n",
    "    token = nltk.word_tokenize(word)\n",
    "    for w in token:\n",
    "        pos.append(w.lower())"
   ]
  },
  {
   "cell_type": "code",
   "execution_count": 128,
   "metadata": {},
   "outputs": [],
   "source": [
    "#NEGATIVE BAG OF WORDS\n",
    "neg = []\n",
    "for word in negative:\n",
    "    token = nltk.word_tokenize(word)\n",
    "    for w in token:\n",
    "        neg.append(w.lower())"
   ]
  },
  {
   "cell_type": "code",
   "execution_count": 129,
   "metadata": {},
   "outputs": [],
   "source": [
    "#REMOVE STOPWORDS FROM BOTH THE BAG OF WORDS(POSITIVE AND NEGATIVE)\n",
    "pos_filtered = []\n",
    "for word in pos:\n",
    "    if word not in stop_words:\n",
    "        pos_filtered.append(word)\n",
    "neg_filtered = []\n",
    "for word in neg:\n",
    "    if word not in stop_words:\n",
    "        neg_filtered.append(word)"
   ]
  },
  {
   "cell_type": "code",
   "execution_count": 130,
   "metadata": {},
   "outputs": [
    {
     "data": {
      "text/plain": [
       "[('movie', 'NN'), ('awesome', 'VBP'), ('like', 'IN'), ('watching', 'VBG')]"
      ]
     },
     "execution_count": 130,
     "metadata": {},
     "output_type": "execute_result"
    }
   ],
   "source": [
    "pos_tagged_words"
   ]
  },
  {
   "cell_type": "code",
   "execution_count": 156,
   "metadata": {},
   "outputs": [],
   "source": [
    "total_words = len(pos_filtered)+len(neg_filtered)\n",
    "table = []\n",
    "for tup in pos_tagged_words:\n",
    "    table.append([tup[0], pos_filtered.count(tup[0])/len(pos_filtered), \n",
    "                neg_filtered.count(tup[0])/len(pos_filtered),\n",
    "                 (pos_filtered.count(tup[0])+neg_filtered.count(tup[0]))/total_words])"
   ]
  },
  {
   "cell_type": "code",
   "execution_count": 157,
   "metadata": {},
   "outputs": [
    {
     "data": {
      "text/plain": [
       "[['movie', 0.25, 0.16666666666666666, 0.23809523809523808],\n",
       " ['awesome', 0.08333333333333333, 0.0, 0.047619047619047616],\n",
       " ['like', 0.0, 0.0, 0.0],\n",
       " ['watching', 0.0, 0.0, 0.0]]"
      ]
     },
     "execution_count": 157,
     "metadata": {},
     "output_type": "execute_result"
    }
   ],
   "source": [
    "table"
   ]
  },
  {
   "cell_type": "code",
   "execution_count": 99,
   "metadata": {},
   "outputs": [
    {
     "data": {
      "text/plain": [
       "0"
      ]
     },
     "execution_count": 99,
     "metadata": {},
     "output_type": "execute_result"
    }
   ],
   "source": [
    "pos_filtered.count('watching')"
   ]
  },
  {
   "cell_type": "code",
   "execution_count": null,
   "metadata": {},
   "outputs": [],
   "source": [
    "cols = ['c1', 'c2', 'c3']\n",
    "lst = []\n",
    "for a in range(2):\n",
    "    lst.append([1, 2, 3])\n",
    "df1 = pd.DataFrame(lst, columns=cols)\n",
    "df1"
   ]
  }
 ],
 "metadata": {
  "kernelspec": {
   "display_name": "Python 3",
   "language": "python",
   "name": "python3"
  },
  "language_info": {
   "codemirror_mode": {
    "name": "ipython",
    "version": 3
   },
   "file_extension": ".py",
   "mimetype": "text/x-python",
   "name": "python",
   "nbconvert_exporter": "python",
   "pygments_lexer": "ipython3",
   "version": "3.7.6"
  }
 },
 "nbformat": 4,
 "nbformat_minor": 4
}
