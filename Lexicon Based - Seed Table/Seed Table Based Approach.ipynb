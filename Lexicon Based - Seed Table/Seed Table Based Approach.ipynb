{
 "cells": [
  {
   "cell_type": "code",
   "execution_count": 8,
   "metadata": {},
   "outputs": [],
   "source": [
    "import nltk\n",
    "# Library import for Tokenization of words\n",
    "from nltk.tokenize import word_tokenize\n",
    "# Library import for stopwords\n",
    "from nltk.corpus import stopwords\n",
    "# Library import for Lammatizer\n",
    "from nltk.stem import WordNetLemmatizer\n",
    "# Library import for Stemming\n",
    "from nltk.stem import PorterStemmer\n",
    "ps = PorterStemmer()\n",
    "\n",
    "import pandas as pd\n",
    "import matplotlib.pyplot as plt\n",
    "%matplotlib inline  \n",
    "import nltk\n",
    "from nltk import word_tokenize, sent_tokenize\n",
    "from nltk.corpus import stopwords\n",
    "from nltk.stem import LancasterStemmer, WordNetLemmatizer, PorterStemmer\n",
    "from textblob import TextBlob"
   ]
  },
  {
   "cell_type": "code",
   "execution_count": 31,
   "metadata": {},
   "outputs": [],
   "source": [
    "class returnBOW:\n",
    "    def __init__(self, sentence):\n",
    "        self.sentence = sentence\n",
    "        \n",
    "    def word_tokenize(self):\n",
    "        words = word_tokenize(self.sentence)\n",
    "        return words\n",
    "    \n",
    "    def remove_stopwords(self):\n",
    "        stop_words = set(stopwords.words(\"english\"))\n",
    "        words = word_tokenize(self.sentence)\n",
    "        words_filtered=[]\n",
    "        for word in words:\n",
    "            if word not in stop_words:\n",
    "                words_filtered.append(word)\n",
    "        return words_filtered\n",
    "    \n",
    "    def word_lammatize(self):\n",
    "        lemmatizer = WordNetLemmatizer() \n",
    "        filtered_words = self.remove_stopwords()\n",
    "        lemmatized_words = []\n",
    "        for word in filtered_words:\n",
    "            lemmatized_words.append(lemmatizer.lemmatize(word))\n",
    "        return lemmatized_words"
   ]
  },
  {
   "cell_type": "code",
   "execution_count": 115,
   "metadata": {},
   "outputs": [],
   "source": [
    "words = returnBOW(\"direction is bad story is not catchy\")"
   ]
  },
  {
   "cell_type": "code",
   "execution_count": 116,
   "metadata": {},
   "outputs": [
    {
     "data": {
      "text/plain": [
       "['direction', 'is', 'bad', 'story', 'is', 'not', 'catchy']"
      ]
     },
     "execution_count": 116,
     "metadata": {},
     "output_type": "execute_result"
    }
   ],
   "source": [
    "w = words.word_tokenize()\n",
    "w"
   ]
  },
  {
   "cell_type": "code",
   "execution_count": 117,
   "metadata": {},
   "outputs": [],
   "source": [
    "def senti(words):\n",
    "    data = []\n",
    "    for word in words:\n",
    "        datas = data.append([word, TextBlob(word).sentiment])\n",
    "    return data"
   ]
  },
  {
   "cell_type": "code",
   "execution_count": 118,
   "metadata": {},
   "outputs": [],
   "source": [
    "result = senti(w)\n",
    "data = pd.DataFrame(data=result, columns=['Word', 'Polarity'])"
   ]
  },
  {
   "cell_type": "code",
   "execution_count": 119,
   "metadata": {},
   "outputs": [
    {
     "data": {
      "text/html": [
       "<div>\n",
       "<style scoped>\n",
       "    .dataframe tbody tr th:only-of-type {\n",
       "        vertical-align: middle;\n",
       "    }\n",
       "\n",
       "    .dataframe tbody tr th {\n",
       "        vertical-align: top;\n",
       "    }\n",
       "\n",
       "    .dataframe thead th {\n",
       "        text-align: right;\n",
       "    }\n",
       "</style>\n",
       "<table border=\"1\" class=\"dataframe\">\n",
       "  <thead>\n",
       "    <tr style=\"text-align: right;\">\n",
       "      <th></th>\n",
       "      <th>Word</th>\n",
       "      <th>Polarity</th>\n",
       "    </tr>\n",
       "  </thead>\n",
       "  <tbody>\n",
       "    <tr>\n",
       "      <th>0</th>\n",
       "      <td>direction</td>\n",
       "      <td>(0.0, 0.0)</td>\n",
       "    </tr>\n",
       "    <tr>\n",
       "      <th>1</th>\n",
       "      <td>is</td>\n",
       "      <td>(0.0, 0.0)</td>\n",
       "    </tr>\n",
       "    <tr>\n",
       "      <th>2</th>\n",
       "      <td>bad</td>\n",
       "      <td>(-0.6999999999999998, 0.6666666666666666)</td>\n",
       "    </tr>\n",
       "    <tr>\n",
       "      <th>3</th>\n",
       "      <td>story</td>\n",
       "      <td>(0.0, 0.0)</td>\n",
       "    </tr>\n",
       "    <tr>\n",
       "      <th>4</th>\n",
       "      <td>is</td>\n",
       "      <td>(0.0, 0.0)</td>\n",
       "    </tr>\n",
       "    <tr>\n",
       "      <th>5</th>\n",
       "      <td>not</td>\n",
       "      <td>(0.0, 0.0)</td>\n",
       "    </tr>\n",
       "    <tr>\n",
       "      <th>6</th>\n",
       "      <td>catchy</td>\n",
       "      <td>(0.0, 0.0)</td>\n",
       "    </tr>\n",
       "  </tbody>\n",
       "</table>\n",
       "</div>"
      ],
      "text/plain": [
       "        Word                                   Polarity\n",
       "0  direction                                 (0.0, 0.0)\n",
       "1         is                                 (0.0, 0.0)\n",
       "2        bad  (-0.6999999999999998, 0.6666666666666666)\n",
       "3      story                                 (0.0, 0.0)\n",
       "4         is                                 (0.0, 0.0)\n",
       "5        not                                 (0.0, 0.0)\n",
       "6     catchy                                 (0.0, 0.0)"
      ]
     },
     "execution_count": 119,
     "metadata": {},
     "output_type": "execute_result"
    }
   ],
   "source": [
    "data"
   ]
  },
  {
   "cell_type": "code",
   "execution_count": null,
   "metadata": {},
   "outputs": [],
   "source": []
  },
  {
   "cell_type": "code",
   "execution_count": 113,
   "metadata": {},
   "outputs": [],
   "source": [
    "import nltk\n",
    "from vaderSentiment.vaderSentiment import SentimentIntensityAnalyzer\n",
    "analyzer = SentimentIntensityAnalyzer()\n",
    "from nltk.tokenize import word_tokenize, RegexpTokenizer\n",
    "def get_word_sentiment(text):\n",
    "    tokenized_text = nltk.word_tokenize(text)\n",
    "    pos_word_list=[]\n",
    "    neu_word_list=[]\n",
    "    neg_word_list=[]\n",
    "    \n",
    "    for word in tokenized_text:\n",
    "        if (analyzer.polarity_scores(word)['compound']) >= 0.1:\n",
    "            pos_word_list.append((word, 2))\n",
    "        elif (analyzer.polarity_scores(word)['compound']) <= -0.1:\n",
    "            neg_word_list.append((word, -2))\n",
    "        else:\n",
    "            neu_word_list.append((word, 1))\n",
    "    print('Positive:',pos_word_list)        \n",
    "    print('Neutral:',neu_word_list)    \n",
    "    print('Negative:',neg_word_list)"
   ]
  },
  {
   "cell_type": "code",
   "execution_count": 114,
   "metadata": {},
   "outputs": [
    {
     "name": "stdout",
     "output_type": "stream",
     "text": [
      "Positive: []\n",
      "Neutral: [('direction', 1), ('is', 1), ('story', 1), ('is', 1), ('not', 1), ('catchy', 1)]\n",
      "Negative: [('bad', -2)]\n"
     ]
    }
   ],
   "source": [
    "get_word_sentiment(\"direction is bad story is not catchy\")"
   ]
  },
  {
   "cell_type": "code",
   "execution_count": null,
   "metadata": {},
   "outputs": [],
   "source": []
  }
 ],
 "metadata": {
  "kernelspec": {
   "display_name": "Python 3",
   "language": "python",
   "name": "python3"
  },
  "language_info": {
   "codemirror_mode": {
    "name": "ipython",
    "version": 3
   },
   "file_extension": ".py",
   "mimetype": "text/x-python",
   "name": "python",
   "nbconvert_exporter": "python",
   "pygments_lexer": "ipython3",
   "version": "3.7.6"
  }
 },
 "nbformat": 4,
 "nbformat_minor": 4
}
