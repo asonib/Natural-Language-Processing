{
 "cells": [
  {
   "cell_type": "markdown",
   "metadata": {},
   "source": [
    "## ARYAN SONI BURMAN - 1761012"
   ]
  },
  {
   "cell_type": "code",
   "execution_count": 51,
   "metadata": {},
   "outputs": [],
   "source": [
    "import nltk\n",
    "# Library import for Tokenization of words\n",
    "from nltk.tokenize import word_tokenize\n",
    "# Library import for stopwords\n",
    "from nltk.corpus import stopwords\n",
    "# Library import for Lammatizer\n",
    "from nltk.stem import WordNetLemmatizer"
   ]
  },
  {
   "cell_type": "code",
   "execution_count": 52,
   "metadata": {},
   "outputs": [],
   "source": [
    "text = \"movie is awesome I like watching it\".lower()"
   ]
  },
  {
   "cell_type": "code",
   "execution_count": 53,
   "metadata": {},
   "outputs": [],
   "source": [
    "#TEST PREPROCESSING\n",
    "stop_words = set(stopwords.words(\"english\"))\n",
    "words = word_tokenize(text)\n",
    "words_filtered=[]\n",
    "for word in words:\n",
    "    if word not in stop_words:\n",
    "        words_filtered.append(word)\n",
    "\n",
    "lemmatizer = WordNetLemmatizer() \n",
    "lemmatized_words = []\n",
    "for word in words_filtered:\n",
    "    lemmatized_words.append(lemmatizer.lemmatize(word))"
   ]
  },
  {
   "cell_type": "code",
   "execution_count": 54,
   "metadata": {},
   "outputs": [],
   "source": [
    "pos_tagged_words = nltk.pos_tag(lemmatized_words)"
   ]
  },
  {
   "cell_type": "code",
   "execution_count": 55,
   "metadata": {},
   "outputs": [
    {
     "data": {
      "text/plain": [
       "[('movie', 'NN'), ('awesome', 'VBP'), ('like', 'IN'), ('watching', 'VBG')]"
      ]
     },
     "execution_count": 55,
     "metadata": {},
     "output_type": "execute_result"
    }
   ],
   "source": [
    "pos_tagged_words"
   ]
  },
  {
   "cell_type": "code",
   "execution_count": 56,
   "metadata": {},
   "outputs": [],
   "source": [
    "'''TRAINGING CORPUS INCLUDES 3 POSITVE AND 2 NEGATIVE SENTENCE WITH 0 INDEX INDICATING CLASS OF SENTENCE AND \n",
    "    1 INDEX INDICATING THE ACTUAL SENTENCE'''\n",
    "\n",
    "training_data = [\n",
    "    [\"P\",\"movie is good direction was superb\"],\n",
    "    [\"P\",\"movie is good songs are just awesome like\"],\n",
    "    [\"N\",\"movie is not so good actor is superficial\"],\n",
    "    [\"N\",\"movie is not so good actress speaks dump\"],\n",
    "    [\"P\",\"movie is good real heroismlike\"]\n",
    "]"
   ]
  },
  {
   "cell_type": "code",
   "execution_count": 57,
   "metadata": {},
   "outputs": [],
   "source": [
    "#CREATING POSITIVE AND NEGATIVE BAG OF SENTENCES\n",
    "positive = []\n",
    "negative = []\n",
    "for value in training_data:\n",
    "    if value[0] == \"P\":\n",
    "        positive.append(value[1])\n",
    "    elif value[0] == \"N\":\n",
    "        negative.append(value[1])"
   ]
  },
  {
   "cell_type": "code",
   "execution_count": 58,
   "metadata": {},
   "outputs": [],
   "source": [
    "#POSITIVE BAG OF WORDS\n",
    "pos = []\n",
    "for word in positive:\n",
    "    token = nltk.word_tokenize(word)\n",
    "    for w in token:\n",
    "        pos.append(w.lower())"
   ]
  },
  {
   "cell_type": "code",
   "execution_count": 59,
   "metadata": {},
   "outputs": [],
   "source": [
    "#NEGATIVE BAG OF WORDS\n",
    "neg = []\n",
    "for word in negative:\n",
    "    token = nltk.word_tokenize(word)\n",
    "    for w in token:\n",
    "        neg.append(w.lower())"
   ]
  },
  {
   "cell_type": "code",
   "execution_count": 60,
   "metadata": {},
   "outputs": [],
   "source": [
    "#REMOVE STOPWORDS FROM BOTH THE BAG OF WORDS(POSITIVE AND NEGATIVE)\n",
    "pos_filtered = []\n",
    "for word in pos:\n",
    "    if word not in stop_words:\n",
    "        pos_filtered.append(word)\n",
    "neg_filtered = []\n",
    "for word in neg:\n",
    "    if word not in stop_words:\n",
    "        neg_filtered.append(word)"
   ]
  },
  {
   "cell_type": "code",
   "execution_count": 61,
   "metadata": {},
   "outputs": [
    {
     "data": {
      "text/plain": [
       "[('movie', 'NN'), ('awesome', 'VBP'), ('like', 'IN'), ('watching', 'VBG')]"
      ]
     },
     "execution_count": 61,
     "metadata": {},
     "output_type": "execute_result"
    }
   ],
   "source": [
    "pos_tagged_words"
   ]
  },
  {
   "cell_type": "code",
   "execution_count": 62,
   "metadata": {},
   "outputs": [],
   "source": [
    "#CREATING TABLE OF PROBABILITIES\n",
    "total_words = len(pos_filtered)+len(neg_filtered)\n",
    "table = []\n",
    "for tup in pos_tagged_words:\n",
    "    table.append([tup[0], pos_filtered.count(tup[0])/len(pos_filtered), \n",
    "                neg_filtered.count(tup[0])/len(neg_filtered),\n",
    "                 (pos_filtered.count(tup[0])+neg_filtered.count(tup[0]))/total_words])"
   ]
  },
  {
   "cell_type": "code",
   "execution_count": 63,
   "metadata": {},
   "outputs": [
    {
     "data": {
      "text/plain": [
       "[['movie', 0.23076923076923078, 0.18181818181818182, 0.20833333333333334],\n",
       " ['awesome', 0.07692307692307693, 0.0, 0.041666666666666664],\n",
       " ['like', 0.07692307692307693, 0.0, 0.041666666666666664],\n",
       " ['watching', 0.0, 0.0, 0.0]]"
      ]
     },
     "execution_count": 63,
     "metadata": {},
     "output_type": "execute_result"
    }
   ],
   "source": [
    "table"
   ]
  },
  {
   "cell_type": "code",
   "execution_count": 64,
   "metadata": {},
   "outputs": [
    {
     "data": {
      "text/html": [
       "<div>\n",
       "<style scoped>\n",
       "    .dataframe tbody tr th:only-of-type {\n",
       "        vertical-align: middle;\n",
       "    }\n",
       "\n",
       "    .dataframe tbody tr th {\n",
       "        vertical-align: top;\n",
       "    }\n",
       "\n",
       "    .dataframe thead th {\n",
       "        text-align: right;\n",
       "    }\n",
       "</style>\n",
       "<table border=\"1\" class=\"dataframe\">\n",
       "  <thead>\n",
       "    <tr style=\"text-align: right;\">\n",
       "      <th></th>\n",
       "      <th>Bag Of Words</th>\n",
       "      <th>Positive</th>\n",
       "      <th>Negative</th>\n",
       "      <th>P(X)</th>\n",
       "    </tr>\n",
       "  </thead>\n",
       "  <tbody>\n",
       "    <tr>\n",
       "      <th>0</th>\n",
       "      <td>movie</td>\n",
       "      <td>0.230769</td>\n",
       "      <td>0.181818</td>\n",
       "      <td>0.208333</td>\n",
       "    </tr>\n",
       "    <tr>\n",
       "      <th>1</th>\n",
       "      <td>awesome</td>\n",
       "      <td>0.076923</td>\n",
       "      <td>0.000000</td>\n",
       "      <td>0.041667</td>\n",
       "    </tr>\n",
       "    <tr>\n",
       "      <th>2</th>\n",
       "      <td>like</td>\n",
       "      <td>0.076923</td>\n",
       "      <td>0.000000</td>\n",
       "      <td>0.041667</td>\n",
       "    </tr>\n",
       "    <tr>\n",
       "      <th>3</th>\n",
       "      <td>watching</td>\n",
       "      <td>0.000000</td>\n",
       "      <td>0.000000</td>\n",
       "      <td>0.000000</td>\n",
       "    </tr>\n",
       "  </tbody>\n",
       "</table>\n",
       "</div>"
      ],
      "text/plain": [
       "  Bag Of Words  Positive  Negative      P(X)\n",
       "0        movie  0.230769  0.181818  0.208333\n",
       "1      awesome  0.076923  0.000000  0.041667\n",
       "2         like  0.076923  0.000000  0.041667\n",
       "3     watching  0.000000  0.000000  0.000000"
      ]
     },
     "execution_count": 64,
     "metadata": {},
     "output_type": "execute_result"
    }
   ],
   "source": [
    "#USING DATA FRAME TO DISPLAY THE VALUES\n",
    "import pandas as pd\n",
    "cols = ['Bag Of Words', 'Positive', 'Negative', 'P(X)']\n",
    "dframe = pd.DataFrame(table, columns=cols)\n",
    "dframe"
   ]
  },
  {
   "cell_type": "code",
   "execution_count": 65,
   "metadata": {},
   "outputs": [],
   "source": [
    "#SUMMATION OF ALL POSITVE AND NEGATIVE PROBABILITIES\n",
    "P_C_Positive = dframe['Positive'].sum(axis=0)\n",
    "P_C_Negative = dframe['Negative'].sum(axis=0)"
   ]
  },
  {
   "cell_type": "code",
   "execution_count": 66,
   "metadata": {},
   "outputs": [
    {
     "name": "stdout",
     "output_type": "stream",
     "text": [
      "0.38461538461538464 0.18181818181818182\n"
     ]
    }
   ],
   "source": [
    "print(P_C_Positive, P_C_Negative)"
   ]
  },
  {
   "cell_type": "markdown",
   "metadata": {},
   "source": [
    "## Bayes Theorum"
   ]
  },
  {
   "cell_type": "code",
   "execution_count": 67,
   "metadata": {},
   "outputs": [
    {
     "name": "stderr",
     "output_type": "stream",
     "text": [
      "/home/aryan/anaconda3/lib/python3.7/site-packages/ipykernel_launcher.py:5: RuntimeWarning: invalid value encountered in double_scalars\n",
      "  \"\"\"\n"
     ]
    }
   ],
   "source": [
    "#APPLYING BAYES THEORUM TO CALCULATE PROBABILITY OF EVERY WORD IN SENTENCE\n",
    "sentiment_score = []\n",
    "i=0\n",
    "for word in dframe['Bag Of Words']:\n",
    "    score = (dframe['Positive'][i]*P_C_Positive)/(dframe['Positive'][i]*P_C_Positive+dframe['Negative'][i]*P_C_Negative)\n",
    "    sentiment_score.append([word, score])\n",
    "    i = i+1"
   ]
  },
  {
   "cell_type": "code",
   "execution_count": 68,
   "metadata": {},
   "outputs": [
    {
     "data": {
      "text/plain": [
       "[['movie', 0.7286230429546368],\n",
       " ['awesome', 1.0],\n",
       " ['like', 1.0],\n",
       " ['watching', nan]]"
      ]
     },
     "execution_count": 68,
     "metadata": {},
     "output_type": "execute_result"
    }
   ],
   "source": [
    "sentiment_score"
   ]
  },
  {
   "cell_type": "code",
   "execution_count": 69,
   "metadata": {},
   "outputs": [
    {
     "data": {
      "text/html": [
       "<div>\n",
       "<style scoped>\n",
       "    .dataframe tbody tr th:only-of-type {\n",
       "        vertical-align: middle;\n",
       "    }\n",
       "\n",
       "    .dataframe tbody tr th {\n",
       "        vertical-align: top;\n",
       "    }\n",
       "\n",
       "    .dataframe thead th {\n",
       "        text-align: right;\n",
       "    }\n",
       "</style>\n",
       "<table border=\"1\" class=\"dataframe\">\n",
       "  <thead>\n",
       "    <tr style=\"text-align: right;\">\n",
       "      <th></th>\n",
       "      <th>Word</th>\n",
       "      <th>Score</th>\n",
       "    </tr>\n",
       "  </thead>\n",
       "  <tbody>\n",
       "    <tr>\n",
       "      <th>0</th>\n",
       "      <td>movie</td>\n",
       "      <td>0.728623</td>\n",
       "    </tr>\n",
       "    <tr>\n",
       "      <th>1</th>\n",
       "      <td>awesome</td>\n",
       "      <td>1.000000</td>\n",
       "    </tr>\n",
       "    <tr>\n",
       "      <th>2</th>\n",
       "      <td>like</td>\n",
       "      <td>1.000000</td>\n",
       "    </tr>\n",
       "    <tr>\n",
       "      <th>3</th>\n",
       "      <td>watching</td>\n",
       "      <td>0.000000</td>\n",
       "    </tr>\n",
       "  </tbody>\n",
       "</table>\n",
       "</div>"
      ],
      "text/plain": [
       "       Word     Score\n",
       "0     movie  0.728623\n",
       "1   awesome  1.000000\n",
       "2      like  1.000000\n",
       "3  watching  0.000000"
      ]
     },
     "execution_count": 69,
     "metadata": {},
     "output_type": "execute_result"
    }
   ],
   "source": [
    "#DISPLAYING WORDS AND THEIR SENTIMENT SCORE\n",
    "dframe_score = pd.DataFrame(sentiment_score, columns=['Word', 'Score'])\n",
    "dframe_score[\"Score\"].fillna(0, inplace = True)\n",
    "dframe_score"
   ]
  },
  {
   "cell_type": "code",
   "execution_count": 70,
   "metadata": {},
   "outputs": [
    {
     "name": "stdout",
     "output_type": "stream",
     "text": [
      "movie is awesome i like watching it : [('movie', 'NN'), ('awesome', 'VBP'), ('like', 'IN'), ('watching', 'VBG')]\n"
     ]
    }
   ],
   "source": [
    "#TEXT TO BE CLASSIFIED\n",
    "print(text, \":\",pos_tagged_words)"
   ]
  },
  {
   "cell_type": "code",
   "execution_count": 71,
   "metadata": {},
   "outputs": [
    {
     "data": {
      "text/plain": [
       "['movie', 'awesome']"
      ]
     },
     "execution_count": 71,
     "metadata": {},
     "output_type": "execute_result"
    }
   ],
   "source": [
    "#EXTRACTING THE NOUN AND ADJECTIVE FROM THE TEXT TO BE CLASSIFIED\n",
    "used_words = []\n",
    "for word in pos_tagged_words:\n",
    "    if word[1] == 'NN' or word[1] == 'VBP' or word[1] == 'VB':\n",
    "        used_words.append(word[0])\n",
    "used_words"
   ]
  },
  {
   "cell_type": "code",
   "execution_count": 72,
   "metadata": {},
   "outputs": [],
   "source": [
    "#CALCULATING THE OVERALL SCORE FOR THE SENTENCE\n",
    "sum = 0\n",
    "for word in used_words:\n",
    "    df = dframe_score[dframe_score['Word'] == word]\n",
    "    sum += df['Score'].sum()"
   ]
  },
  {
   "cell_type": "code",
   "execution_count": 73,
   "metadata": {},
   "outputs": [],
   "source": [
    "#CONVERTING TO PERCENTAGE\n",
    "percent_prediction = (sum/2)*100"
   ]
  },
  {
   "cell_type": "code",
   "execution_count": 74,
   "metadata": {},
   "outputs": [
    {
     "name": "stdout",
     "output_type": "stream",
     "text": [
      "86.43115214773184 %\n"
     ]
    }
   ],
   "source": [
    "print(percent_prediction,\"%\")"
   ]
  },
  {
   "cell_type": "code",
   "execution_count": 75,
   "metadata": {},
   "outputs": [
    {
     "name": "stdout",
     "output_type": "stream",
     "text": [
      "Sentence is Positive : Prediction Score =  86.43115214773184 percent\n"
     ]
    }
   ],
   "source": [
    "y = percent_prediction\n",
    "if y > 50:\n",
    "    print('Sentence is Positive : Prediction Score = ',y, \"percent\")\n",
    "else:\n",
    "    print('Sentence is Negative : Prediction Score = ',y, \"percent\")"
   ]
  },
  {
   "cell_type": "code",
   "execution_count": null,
   "metadata": {},
   "outputs": [],
   "source": []
  }
 ],
 "metadata": {
  "kernelspec": {
   "display_name": "Python 3",
   "language": "python",
   "name": "python3"
  },
  "language_info": {
   "codemirror_mode": {
    "name": "ipython",
    "version": 3
   },
   "file_extension": ".py",
   "mimetype": "text/x-python",
   "name": "python",
   "nbconvert_exporter": "python",
   "pygments_lexer": "ipython3",
   "version": "3.7.6"
  }
 },
 "nbformat": 4,
 "nbformat_minor": 4
}
